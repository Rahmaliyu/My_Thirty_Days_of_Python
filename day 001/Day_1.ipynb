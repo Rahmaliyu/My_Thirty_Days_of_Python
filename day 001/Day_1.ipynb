{
 "cells": [
  {
   "attachments": {},
   "cell_type": "markdown",
   "metadata": {},
   "source": [
    "#### Day 1"
   ]
  },
  {
   "attachments": {},
   "cell_type": "markdown",
   "metadata": {},
   "source": [
    "##### Question 2"
   ]
  },
  {
   "cell_type": "code",
   "execution_count": null,
   "metadata": {},
   "outputs": [],
   "source": [
    "print(3 + 4)   \n",
    "print(3 - 4)   \n",
    "print(3 * 4)   \n",
    "print(3 / 4)  \n",
    "print(3 ** 4)  \n",
    "print(4 % 3)   \n",
    "print(4 // 3) \n"
   ]
  },
  {
   "attachments": {},
   "cell_type": "markdown",
   "metadata": {},
   "source": [
    "##### Question 3"
   ]
  },
  {
   "cell_type": "code",
   "execution_count": null,
   "metadata": {},
   "outputs": [],
   "source": [
    "print('Rahma')\n",
    "print(type('Aliyu'))    \n",
    "print(type(\"Nigeria\"))\n",
    "print('I am enjoying 30 days of python')"
   ]
  },
  {
   "attachments": {},
   "cell_type": "markdown",
   "metadata": {},
   "source": [
    "##### Question 4"
   ]
  },
  {
   "cell_type": "code",
   "execution_count": null,
   "metadata": {},
   "outputs": [],
   "source": [
    "print(type(10))                 \n",
    "print(type(9.8))                \n",
    "print(type(3.14))            \n",
    "print(type(4 - 4j))          \n",
    "print(type(['Asabeneh','Python', 'Finland']))           \n",
    "print(type('Rahma')) \n",
    "print(type('Aliyu'))    \n",
    "print(type(\"Nigeria\")) "
   ]
  },
  {
   "attachments": {},
   "cell_type": "markdown",
   "metadata": {},
   "source": [
    "#### Exercise level 2"
   ]
  },
  {
   "attachments": {},
   "cell_type": "markdown",
   "metadata": {},
   "source": [
    "##### Question 1"
   ]
  },
  {
   "cell_type": "code",
   "execution_count": null,
   "metadata": {},
   "outputs": [],
   "source": [
    "#integer\n",
    "print(-5)\n",
    "#float\n",
    "print(0.337)\n",
    "#complex\n",
    "print(3-3j)\n",
    "#string\n",
    "print('hello world')\n",
    "#boolean\n",
    "print(20.0 is 20)\n",
    "#list\n",
    "Items = ['Goat', 'Yam', 'Road', 'Zebra', 'House']\n",
    "#tuple\n",
    "tpl = ( )\n",
    "#sets\n",
    "st = {}\n",
    "#dictionary\n",
    "dict = {}"
   ]
  },
  {
   "attachments": {},
   "cell_type": "markdown",
   "metadata": {},
   "source": [
    "##### question 2"
   ]
  },
  {
   "cell_type": "code",
   "execution_count": null,
   "metadata": {},
   "outputs": [],
   "source": [
    "print((((3 ** 2 - 2**2)**2) + ((10 ** 2 - 2**2)**2)) ** 1/2)"
   ]
  }
 ],
 "metadata": {
  "kernelspec": {
   "display_name": "Python 3",
   "language": "python",
   "name": "python3"
  },
  "language_info": {
   "name": "python",
   "version": "3.11.0 (main, Oct 24 2022, 18:26:48) [MSC v.1933 64 bit (AMD64)]"
  },
  "orig_nbformat": 4,
  "vscode": {
   "interpreter": {
    "hash": "fb9b610eab4921576ab997c09d0c1c552d2f49ec8c532f5ef2f9f88daad97359"
   }
  }
 },
 "nbformat": 4,
 "nbformat_minor": 2
}
