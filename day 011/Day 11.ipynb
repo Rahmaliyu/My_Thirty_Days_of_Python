{
 "cells": [
  {
   "attachments": {},
   "cell_type": "markdown",
   "metadata": {},
   "source": [
    "### Day 11\n"
   ]
  },
  {
   "attachments": {},
   "cell_type": "markdown",
   "metadata": {},
   "source": [
    "#### Exercises Level 1"
   ]
  },
  {
   "attachments": {},
   "cell_type": "markdown",
   "metadata": {},
   "source": [
    "##### Question 1"
   ]
  },
  {
   "cell_type": "code",
   "execution_count": 1,
   "metadata": {},
   "outputs": [
    {
     "name": "stdout",
     "output_type": "stream",
     "text": [
      "we call ouur function here 5\n"
     ]
    }
   ],
   "source": [
    "def add_two_numbers(a, b):\n",
    "    #A function that takes two parameters and it returns a sum.\n",
    "    sum = a+b\n",
    "    return sum\n",
    "\n",
    "print('We call ouur function here to add two numbers. /n 3 and 2  equal s :', add_two_numbers(2,3) )\n",
    "\n"
   ]
  },
  {
   "attachments": {},
   "cell_type": "markdown",
   "metadata": {},
   "source": [
    "##### Question 2"
   ]
  },
  {
   "cell_type": "code",
   "execution_count": 3,
   "metadata": {},
   "outputs": [
    {
     "name": "stdout",
     "output_type": "stream",
     "text": [
      "We call our function here to  calculate area of a circle with a radius of five.The area is : 78.55\n"
     ]
    }
   ],
   "source": [
    "def area_of_circle(r):\n",
    "    pi = 3.142\n",
    "    Area = pi * r * r\n",
    "    return Area\n",
    "\n",
    "print('We call our function here to  calculate area of a circle with a radius of five.The area is :', area_of_circle(5))    "
   ]
  },
  {
   "attachments": {},
   "cell_type": "markdown",
   "metadata": {},
   "source": [
    "##### Question 3"
   ]
  },
  {
   "cell_type": "code",
   "execution_count": 15,
   "metadata": {},
   "outputs": [
    {
     "name": "stdout",
     "output_type": "stream",
     "text": [
      "The sum of 7 numbers by calling our function 152\n"
     ]
    }
   ],
   "source": [
    "def add_all_nums(*nums):\n",
    "    # function which takes arbitrary number of arguments and sums all the arguments.\n",
    "    #  It  Checks if all the list items are number types. \n",
    "    sum = 0\n",
    "    for i in nums:\n",
    "        sum += i\n",
    "    if all(isinstance(i,(int)) for i in nums):   \n",
    "        return sum \n",
    "    else:\n",
    "        return 'please the list should contain only numbers'\n",
    "\n",
    "\n",
    "\n",
    "print('The sum of 7 numbers by calling our function', add_all_nums(2,5,6,7,8,23,101))\n",
    "#print('The result when the list contain another data type other than numbers', add_all_nums(2,4,'haj', 3))\n"
   ]
  },
  {
   "attachments": {},
   "cell_type": "markdown",
   "metadata": {},
   "source": [
    "##### Question 4"
   ]
  },
  {
   "cell_type": "code",
   "execution_count": 16,
   "metadata": {},
   "outputs": [
    {
     "name": "stdout",
     "output_type": "stream",
     "text": [
      "100 Celcius converted to ferinheit equals  212.0 F\n"
     ]
    }
   ],
   "source": [
    "def Convers_Celcius(C):\n",
    "    # A function that converts celcius to fehrenheit\n",
    "    F = (C * (9/5)) + 32\n",
    "    print('100 Celcius converted to ferinheit equals ',F, 'F' )\n",
    "\n",
    "\n",
    "Convers_Celcius(100)"
   ]
  },
  {
   "attachments": {},
   "cell_type": "markdown",
   "metadata": {},
   "source": [
    "##### Question 5"
   ]
  },
  {
   "cell_type": "code",
   "execution_count": 20,
   "metadata": {},
   "outputs": [
    {
     "name": "stdout",
     "output_type": "stream",
     "text": [
      "the season is summer\n"
     ]
    }
   ],
   "source": [
    "def check_season(month):\n",
    "    # A funtion that takes a month parameter and returns the season: Autumn, Winter, Spring or Summer.\n",
    "    Months = [ 'September','October', 'November',' December', 'January ','February', \n",
    "         'March', 'April', 'May', 'June', 'July' ,'August' ]    \n",
    "    \n",
    "    if month in  Months[:3] :\n",
    "            print('the season is Autumn')\n",
    "    elif month in Months[3:6] :\n",
    "           print('the season is winter') \n",
    "    elif month in Months[6:9] :\n",
    "           print('season is Spring')\n",
    "    else:\n",
    "            print('the season is summer') \n",
    "\n",
    "Month = input('enter a month to check its season (first letter in capital)')\n",
    "check_season(Month)            "
   ]
  },
  {
   "attachments": {},
   "cell_type": "markdown",
   "metadata": {},
   "source": [
    "##### Question 6"
   ]
  },
  {
   "cell_type": "code",
   "execution_count": null,
   "metadata": {},
   "outputs": [],
   "source": [
    "def calculate_slope(y1,y2,x1,x2):\n",
    "    # A function that calculates the slope of a linear equation\n",
    "    slope = (y1 - y2) / (x2 - x1)\n",
    "    return slope\n",
    "\n",
    "\n",
    "print('the slope is equal to : ', calculate_slope(4,8,9,2))\n"
   ]
  },
  {
   "attachments": {},
   "cell_type": "markdown",
   "metadata": {},
   "source": [
    "##### Question 7\n"
   ]
  },
  {
   "cell_type": "code",
   "execution_count": null,
   "metadata": {},
   "outputs": [],
   "source": [
    "def solve_quadratic_eqn_(a, b, c):\n",
    "   # A function that calculates set of a quadratic equation\n",
    "   B_inSqrt = (((b **2) -( 4* (a*c) ))**(1/2))\n",
    "   x1 = (-(b) + B_inSqrt) / (2* a)\n",
    "   x2 = (-(b) - B_inSqrt) / (2* a)\n",
    "   print('The first valueof x is : ', x1)\n",
    "   print('The second valueof x is : ', x2)\n",
    "\n",
    "\n",
    "a = int(input('Enter the coefficient of X^2 '))\n",
    "b =int (input('Enter the coefficient of X'))\n",
    "c =int (input('Enter the value of c '))\n",
    "solve_quadratic_eqn_(a,b,c)"
   ]
  },
  {
   "attachments": {},
   "cell_type": "markdown",
   "metadata": {},
   "source": [
    "##### Question 8"
   ]
  },
  {
   "cell_type": "code",
   "execution_count": 1,
   "metadata": {},
   "outputs": [
    {
     "name": "stdout",
     "output_type": "stream",
     "text": [
      "Goat\n",
      "Yam\n",
      "Road\n",
      "Zebra\n",
      "House\n"
     ]
    }
   ],
   "source": [
    "def print_list(my_list):\n",
    "# A function that takes a list as a parameter and it prints out each element of the list\n",
    "    for i in my_list:\n",
    "        print (i)\n",
    "\n",
    "\n",
    "items = ['Goat', 'Yam', 'Road', 'Zebra', 'House']\n",
    "print_list(items)\n"
   ]
  },
  {
   "attachments": {},
   "cell_type": "markdown",
   "metadata": {},
   "source": [
    "##### Question 9"
   ]
  },
  {
   "cell_type": "code",
   "execution_count": 4,
   "metadata": {},
   "outputs": [
    {
     "name": "stdout",
     "output_type": "stream",
     "text": [
      "[5, 4, 3, 2, 1]\n",
      "['C', 'B', 'A']\n"
     ]
    }
   ],
   "source": [
    "def reverse_list(List_Reverse):\n",
    "# A function  that takes an array as a parameter \n",
    "# and it returns the reverse of the array.    \n",
    "    List_reversed = [] \n",
    "    lenght = len(List_Reverse)\n",
    "    while lenght > 0:\n",
    "        List_reversed.append(List_Reverse[lenght-1])\n",
    "        lenght= lenght- 1\n",
    "    return(List_reversed) \n",
    "\n",
    "print(reverse_list([1, 2, 3, 4, 5]))\n",
    "print(reverse_list([\"A\", \"B\", \"C\"]))\n",
    "\n"
   ]
  },
  {
   "attachments": {},
   "cell_type": "markdown",
   "metadata": {},
   "source": [
    "##### Question 10"
   ]
  },
  {
   "cell_type": "code",
   "execution_count": 38,
   "metadata": {},
   "outputs": [
    {
     "name": "stdout",
     "output_type": "stream",
     "text": [
      "['POTATO', 'TOMATO', 'MANGO', 'MILK']\n"
     ]
    }
   ],
   "source": [
    "def capitalize_list_items(item_list1): \n",
    "#A function that takes a list as a parameter and it returns a capitalized list of items\n",
    "    return[x.upper() for x in item_list1]\n",
    "    \n",
    "\n",
    "food_staff = ['Potato', 'Tomato', 'Mango', 'Milk'];\n",
    "print(capitalize_list_items(food_staff,)) "
   ]
  },
  {
   "attachments": {},
   "cell_type": "markdown",
   "metadata": {},
   "source": [
    "##### Question 11"
   ]
  },
  {
   "cell_type": "code",
   "execution_count": 7,
   "metadata": {},
   "outputs": [
    {
     "name": "stdout",
     "output_type": "stream",
     "text": [
      "['Potato', 'Tomato', 'Mango', 'Milk', 'Meat']\n",
      "[2, 3, 7, 9, 5]\n"
     ]
    }
   ],
   "source": [
    "def add_item(item_list, item):\n",
    "# A function that  takes a list and an item parameters.\n",
    "#  It returns the list with the item added at the end.\n",
    "    item_list = list(item_list)\n",
    "    item_list.append(item)\n",
    "    return item_list\n",
    "\n",
    "food_staff = ['Potato', 'Tomato', 'Mango', 'Milk'];\n",
    "print(add_item(food_staff, 'Meat')) \n",
    "numbers = [2, 3, 7, 9]\n",
    "print(add_item(numbers, 5)) "
   ]
  },
  {
   "attachments": {},
   "cell_type": "markdown",
   "metadata": {},
   "source": [
    "##### Question 12"
   ]
  },
  {
   "cell_type": "code",
   "execution_count": 41,
   "metadata": {},
   "outputs": [
    {
     "name": "stdout",
     "output_type": "stream",
     "text": [
      "['Potato', 'Tomato', 'Milk']\n",
      "[2, 7, 9]\n"
     ]
    }
   ],
   "source": [
    "def remove_item(items_list, item):\n",
    "#A function named remove_item. It takes a list and an item parameters\n",
    "#It returns a list with the item removed from it\n",
    "    items_list = list(items_list)\n",
    "    item_index = items_list.index(item)\n",
    "    items_list.pop(item_index)\n",
    "    return items_list\n",
    "\n",
    "food_staff = ['Potato', 'Tomato', 'Mango', 'Milk'];\n",
    "print(remove_item(food_staff, 'Mango'))\n",
    "numbers = [2, 3, 7, 9];\n",
    "print(remove_item(numbers, 3))"
   ]
  },
  {
   "attachments": {},
   "cell_type": "markdown",
   "metadata": {},
   "source": [
    "##### Question 13"
   ]
  },
  {
   "cell_type": "code",
   "execution_count": 43,
   "metadata": {},
   "outputs": [
    {
     "name": "stdout",
     "output_type": "stream",
     "text": [
      "15\n",
      "55\n",
      "5050\n"
     ]
    }
   ],
   "source": [
    "def sum_all_numbers(n):\n",
    "# That function takes a number parameter and it adds all the numbers in that range.\n",
    "    sum = 0\n",
    "    for i in range(n + 1):\n",
    "        sum += i\n",
    "    return sum \n",
    "\n",
    "print(\" the sum of numbers in from 0 to 5 is : \",sum_all_numbers(5))  # 15\n",
    "print(\" the sum of numbers in from 0 to 10 is : \",sum_all_numbers(10)) # 55\n",
    "print(\" the sum of numbers in from 0 to 100 is : \",sum_all_numbers(100)) # 5050\n",
    "\n"
   ]
  },
  {
   "attachments": {},
   "cell_type": "markdown",
   "metadata": {},
   "source": [
    "##### Question 15"
   ]
  },
  {
   "cell_type": "code",
   "execution_count": 45,
   "metadata": {},
   "outputs": [
    {
     "name": "stdout",
     "output_type": "stream",
     "text": [
      "the sum of even  numbers from 0 to eight is :  20\n"
     ]
    }
   ],
   "source": [
    "def  sum_of_even(x):\n",
    "    sum = 0\n",
    "    for i in range(0,x+ 1,2):\n",
    "        sum += i\n",
    "    return sum \n",
    "\n",
    "print(\"the sum of all even  numbers from 0 to eight is : \",sum_of_even(8))"
   ]
  },
  {
   "attachments": {},
   "cell_type": "markdown",
   "metadata": {},
   "source": [
    "#### Exercise level 2"
   ]
  },
  {
   "attachments": {},
   "cell_type": "markdown",
   "metadata": {},
   "source": [
    "##### Question 1\n"
   ]
  },
  {
   "cell_type": "code",
   "execution_count": 55,
   "metadata": {},
   "outputs": [
    {
     "name": "stdout",
     "output_type": "stream",
     "text": [
      "the number of odds are : 50\n",
      "The number of evens are : 51\n"
     ]
    }
   ],
   "source": [
    "def evens_and_odds(y):\n",
    "    No_of_odds = []\n",
    "    No_of_evens = []\n",
    "    odds = len(No_of_odds)\n",
    "    evens = len(No_of_evens)\n",
    "    for i in range(y + 1):\n",
    "        if i % 2 == 0 :\n",
    "            No_of_evens.append(i)\n",
    "        else:\n",
    "             No_of_odds.append(i)\n",
    "    odds = len(No_of_odds)\n",
    "    evens = len(No_of_evens)\n",
    "    print('the number of odds are :', odds)      \n",
    "    print('The number of evens are :', evens)\n",
    "     \n",
    "    \n",
    "evens_and_odds(100)  \n",
    "\n",
    "\n",
    "\n",
    "\n"
   ]
  }
 ],
 "metadata": {
  "kernelspec": {
   "display_name": "Python 3",
   "language": "python",
   "name": "python3"
  },
  "language_info": {
   "codemirror_mode": {
    "name": "ipython",
    "version": 3
   },
   "file_extension": ".py",
   "mimetype": "text/x-python",
   "name": "python",
   "nbconvert_exporter": "python",
   "pygments_lexer": "ipython3",
   "version": "3.11.0"
  },
  "orig_nbformat": 4,
  "vscode": {
   "interpreter": {
    "hash": "fb9b610eab4921576ab997c09d0c1c552d2f49ec8c532f5ef2f9f88daad97359"
   }
  }
 },
 "nbformat": 4,
 "nbformat_minor": 2
}
