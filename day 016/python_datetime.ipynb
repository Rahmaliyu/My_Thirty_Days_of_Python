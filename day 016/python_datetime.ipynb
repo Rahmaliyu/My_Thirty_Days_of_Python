{
 "cells": [
  {
   "attachments": {},
   "cell_type": "markdown",
   "metadata": {},
   "source": [
    "### Exercises : Day 16"
   ]
  },
  {
   "attachments": {},
   "cell_type": "markdown",
   "metadata": {},
   "source": [
    "#### Question 1\n",
    "\n",
    "Get the current day, month, year, hour, minute and timestamp from datetime module"
   ]
  },
  {
   "cell_type": "code",
   "execution_count": 7,
   "metadata": {},
   "outputs": [
    {
     "name": "stdout",
     "output_type": "stream",
     "text": [
      "Today's date is 2023-02-20 15:06:11.560460\n",
      "Current day is 20th of the month\n",
      "Month is  2\n",
      "Current year is  2023\n",
      "Current hour is  15\n",
      "current minute is  6\n",
      "Current timestamp is  <built-in method timestamp of datetime.datetime object at 0x000001F3D32D9020>\n"
     ]
    }
   ],
   "source": [
    "from datetime import datetime\n",
    "\n",
    "Todays_date = datetime.now()\n",
    "print (f'Today\\'s date is {Todays_date}' )\n",
    "\n",
    "Current_date = Todays_date.day\n",
    "print(f'Current day is {Current_date}th of the month')\n",
    "month = Todays_date.month\n",
    "print('Month is ', month)\n",
    "year= Todays_date.year\n",
    "print('Current year is ', year)\n",
    "hour = Todays_date.hour\n",
    "print('Current hour is ', hour)\n",
    "minute= Todays_date.minute\n",
    "print(\"current minute is \", minute)\n",
    "timestamp = Todays_date.timestamp\n",
    "print('Current timestamp is ', timestamp)\n"
   ]
  }
 ],
 "metadata": {
  "kernelspec": {
   "display_name": "Python 3",
   "language": "python",
   "name": "python3"
  },
  "language_info": {
   "codemirror_mode": {
    "name": "ipython",
    "version": 3
   },
   "file_extension": ".py",
   "mimetype": "text/x-python",
   "name": "python",
   "nbconvert_exporter": "python",
   "pygments_lexer": "ipython3",
   "version": "3.11.0"
  },
  "orig_nbformat": 4,
  "vscode": {
   "interpreter": {
    "hash": "fb9b610eab4921576ab997c09d0c1c552d2f49ec8c532f5ef2f9f88daad97359"
   }
  }
 },
 "nbformat": 4,
 "nbformat_minor": 2
}
