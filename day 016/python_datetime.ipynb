{
 "cells": [
  {
   "attachments": {},
   "cell_type": "markdown",
   "metadata": {},
   "source": [
    "### Exercises : Day 16"
   ]
  },
  {
   "attachments": {},
   "cell_type": "markdown",
   "metadata": {},
   "source": [
    "#### Question 1\n",
    "\n",
    "Get the current day, month, year, hour, minute and timestamp from datetime module"
   ]
  },
  {
   "cell_type": "code",
   "execution_count": 7,
   "metadata": {},
   "outputs": [
    {
     "name": "stdout",
     "output_type": "stream",
     "text": [
      "Today's date is 2023-02-20 15:06:11.560460\n",
      "Current day is 20th of the month\n",
      "Month is  2\n",
      "Current year is  2023\n",
      "Current hour is  15\n",
      "current minute is  6\n",
      "Current timestamp is  <built-in method timestamp of datetime.datetime object at 0x000001F3D32D9020>\n"
     ]
    }
   ],
   "source": [
    "from datetime import datetime\n",
    "\n",
    "Todays_date = datetime.now()\n",
    "print (f'Today\\'s date is {Todays_date}' )\n",
    "\n",
    "Current_date = Todays_date.day\n",
    "print(f'Current day is {Current_date}th of the month')\n",
    "month = Todays_date.month\n",
    "print('Month is ', month)\n",
    "year= Todays_date.year\n",
    "print('Current year is ', year)\n",
    "hour = Todays_date.hour\n",
    "print('Current hour is ', hour)\n",
    "minute= Todays_date.minute\n",
    "print(\"current minute is \", minute)\n",
    "timestamp = Todays_date.timestamp\n",
    "print('Current timestamp is ', timestamp)\n"
   ]
  },
  {
   "attachments": {},
   "cell_type": "markdown",
   "metadata": {},
   "source": [
    "#### Question 2\n",
    "\n",
    "Format the current date using this format: \"%m/%d/%Y, %H:%M:%S\""
   ]
  },
  {
   "cell_type": "code",
   "execution_count": 1,
   "metadata": {},
   "outputs": [
    {
     "name": "stdout",
     "output_type": "stream",
     "text": [
      "Today's date is 2023-02-20 19:59:48.462396\n",
      "cuurent date using another format 02/20/2023, 19:59:48\n"
     ]
    }
   ],
   "source": [
    "from datetime import datetime\n",
    "Todays_date = datetime.now()\n",
    "print (f'Today\\'s date is {Todays_date}' )\n",
    " \n",
    "Another_Date  = Todays_date.strftime(\"%m/%d/%Y, %H:%M:%S\")\n",
    "\n",
    "print(f'Curent date using another format {Another_Date}')\n",
    "\n"
   ]
  },
  {
   "attachments": {},
   "cell_type": "markdown",
   "metadata": {},
   "source": [
    "#### Question 3\n",
    "\n",
    "Today is 5 December, 2019. Change this time string to time\n"
   ]
  },
  {
   "cell_type": "code",
   "execution_count": 4,
   "metadata": {},
   "outputs": [
    {
     "name": "stdout",
     "output_type": "stream",
     "text": [
      "Today in string = 5 December, 2019\n",
      "Today in time  = 2019-12-05 00:00:00\n"
     ]
    }
   ],
   "source": [
    "from datetime import datetime\n",
    "Today =  \"5 December, 2019\"\n",
    "print(\"Today in string =\", Today)\n",
    "Today_in_String = datetime.strptime(Today, \"%d %B, %Y\")\n",
    "print(\"Today in time  =\", Today_in_String)"
   ]
  },
  {
   "attachments": {},
   "cell_type": "markdown",
   "metadata": {},
   "source": [
    "#### Question 4\n",
    "\n",
    "Calculate the time difference between now and new year."
   ]
  },
  {
   "cell_type": "code",
   "execution_count": 16,
   "metadata": {},
   "outputs": [
    {
     "name": "stdout",
     "output_type": "stream",
     "text": [
      "Now the time is  2023-02-20 20:24:13.689102\n",
      "The difference between now and new year is  314 days, 3:35:46.310898\n"
     ]
    }
   ],
   "source": [
    "from datetime import datetime\n",
    "from datetime import timedelta\n",
    "now = datetime.now()\n",
    "new_year = datetime(year = 2024, month = 1, day = 1, hour = 0, minute = 0, second = 0)\n",
    "difference = new_year - now\n",
    "print(\"Now the time is \",now)\n",
    "print('The difference between now and new year is ', difference)\n"
   ]
  },
  {
   "attachments": {},
   "cell_type": "markdown",
   "metadata": {},
   "source": [
    "#### Question 5\n",
    "Calculate the time difference between 1 January 1970 and now."
   ]
  },
  {
   "cell_type": "code",
   "execution_count": 18,
   "metadata": {},
   "outputs": [
    {
     "name": "stdout",
     "output_type": "stream",
     "text": [
      "Now the time is  2023-02-20 23:09:02.926935\n",
      "The difference between now and first January 1970 is  19408 days, 23:09:02.926935\n"
     ]
    }
   ],
   "source": [
    "from datetime import datetime\n",
    "from datetime import timedelta\n",
    "now = datetime.now()\n",
    "date = datetime(year = 1970, month = 1, day = 1, hour = 0, minute = 0, second = 0)\n",
    "difference = now- date \n",
    "print(\"Now the time is \",now)\n",
    "print('The difference between now and first January 1970 is ', difference)"
   ]
  }
 ],
 "metadata": {
  "kernelspec": {
   "display_name": "Python 3",
   "language": "python",
   "name": "python3"
  },
  "language_info": {
   "codemirror_mode": {
    "name": "ipython",
    "version": 3
   },
   "file_extension": ".py",
   "mimetype": "text/x-python",
   "name": "python",
   "nbconvert_exporter": "python",
   "pygments_lexer": "ipython3",
   "version": "3.11.0"
  },
  "orig_nbformat": 4,
  "vscode": {
   "interpreter": {
    "hash": "fb9b610eab4921576ab997c09d0c1c552d2f49ec8c532f5ef2f9f88daad97359"
   }
  }
 },
 "nbformat": 4,
 "nbformat_minor": 2
}
