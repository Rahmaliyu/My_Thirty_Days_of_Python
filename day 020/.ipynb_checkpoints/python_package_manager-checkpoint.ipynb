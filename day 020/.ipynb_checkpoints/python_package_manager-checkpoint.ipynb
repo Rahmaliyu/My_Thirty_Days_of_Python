{
 "cells": [
  {
   "cell_type": "markdown",
   "metadata": {},
   "source": [
    "### Day 20\n"
   ]
  },
  {
   "cell_type": "markdown",
   "metadata": {},
   "source": [
    "#### Question 1\n",
    "1. Read this url and find the 10 most frequent words. romeo_and_juliet = 'http://www.gutenberg.org/files/1112/1112.txt'\n"
   ]
  },
  {
   "cell_type": "code",
   "execution_count": 8,
   "metadata": {},
   "outputs": [
    {
     "name": "stdout",
     "output_type": "stream",
     "text": [
      "The 10 most frequent words are [(766, 'the'), (583, 'I'), (555, 'and'), (533, 'to'), (487, 'of'), (460, 'a'), (341, 'in'), (334, 'is'), (318, 'you'), (310, 'my')]\n"
     ]
    }
   ],
   "source": [
    "import requests\n",
    "import re\n",
    "\n",
    "\n",
    "url = 'http://www.gutenberg.org/files/1112/1112.txt'  \n",
    "response = requests.get(url)\n",
    "\n",
    "file = response.text\n",
    "file = re.sub(r'[^\\w\\s]','',file)\n",
    "\n",
    "words = file.split()\n",
    "words_count = {}\n",
    "\n",
    "for i in words:\n",
    "    words_count[i] = words_count.get(i,0) + 1\n",
    "    \n",
    "sorted_words = sorted(words_count.items(),key =lambda x:x[1], reverse= True)\n",
    "\n",
    "top_words = [(i[1],i[0]) for i in sorted_words]\n",
    "\n",
    "print('The 10 most frequent words are', top_words[:10])\n",
    "\n",
    "\n"
   ]
  },
  {
   "cell_type": "code",
   "execution_count": null,
   "metadata": {},
   "outputs": [],
   "source": []
  },
  {
   "cell_type": "code",
   "execution_count": null,
   "metadata": {},
   "outputs": [],
   "source": []
  }
 ],
 "metadata": {
  "kernelspec": {
   "display_name": "Python 3 (ipykernel)",
   "language": "python",
   "name": "python3"
  },
  "language_info": {
   "codemirror_mode": {
    "name": "ipython",
    "version": 3
   },
   "file_extension": ".py",
   "mimetype": "text/x-python",
   "name": "python",
   "nbconvert_exporter": "python",
   "pygments_lexer": "ipython3",
   "version": "3.9.13"
  }
 },
 "nbformat": 4,
 "nbformat_minor": 2
}
