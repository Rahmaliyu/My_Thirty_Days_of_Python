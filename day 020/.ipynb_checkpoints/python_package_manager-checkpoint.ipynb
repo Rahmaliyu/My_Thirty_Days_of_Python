{
 "cells": [
  {
   "cell_type": "markdown",
   "metadata": {},
   "source": [
    "### Day 20\n"
   ]
  },
  {
   "cell_type": "markdown",
   "metadata": {},
   "source": [
    "#### Question 1\n",
    "1. Read this url and find the 10 most frequent words. romeo_and_juliet = 'http://www.gutenberg.org/files/1112/1112.txt'\n"
   ]
  },
  {
   "cell_type": "code",
   "execution_count": 9,
   "metadata": {},
   "outputs": [
    {
     "name": "stdout",
     "output_type": "stream",
     "text": [
      "The 10 most frequent words are [('the', 766), ('I', 583), ('and', 555), ('to', 533), ('of', 487), ('a', 460), ('in', 341), ('is', 334), ('you', 318), ('my', 310)]\n"
     ]
    }
   ],
   "source": [
    "import requests\n",
    "import re\n",
    "\n",
    "\n",
    "url = 'http://www.gutenberg.org/files/1112/1112.txt'  \n",
    "response = requests.get(url)\n",
    "\n",
    "file = response.text\n",
    "file = re.sub(r'[^\\w\\s]','',file)\n",
    "\n",
    "words = file.split()\n",
    "words_count = {}\n",
    "\n",
    "for i in words:\n",
    "    words_count[i] = words_count.get(i,0) + 1\n",
    "    \n",
    "sorted_words = sorted(words_count.items(),key =lambda x:x[1], reverse= True)\n",
    "\n",
    "top_words = [(i[0],i[1]) for i in sorted_words]\n",
    "\n",
    "print('The 10 most frequent words are', top_words[:10])\n",
    "\n",
    "\n"
   ]
  },
  {
   "cell_type": "code",
   "execution_count": null,
   "metadata": {},
   "outputs": [],
   "source": []
  },
  {
   "cell_type": "code",
   "execution_count": null,
   "metadata": {},
   "outputs": [],
   "source": []
  }
 ],
 "metadata": {
  "kernelspec": {
   "display_name": "Python 3 (ipykernel)",
   "language": "python",
   "name": "python3"
  },
  "language_info": {
   "codemirror_mode": {
    "name": "ipython",
    "version": 3
   },
   "file_extension": ".py",
   "mimetype": "text/x-python",
   "name": "python",
   "nbconvert_exporter": "python",
   "pygments_lexer": "ipython3",
   "version": "3.9.13"
  }
 },
 "nbformat": 4,
 "nbformat_minor": 2
}
