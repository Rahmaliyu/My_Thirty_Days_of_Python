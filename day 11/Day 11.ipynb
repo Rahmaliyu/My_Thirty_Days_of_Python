{
 "cells": [
  {
   "attachments": {},
   "cell_type": "markdown",
   "metadata": {},
   "source": [
    "### Day 11\n"
   ]
  },
  {
   "attachments": {},
   "cell_type": "markdown",
   "metadata": {},
   "source": [
    "#### Exercises Level 1"
   ]
  },
  {
   "attachments": {},
   "cell_type": "markdown",
   "metadata": {},
   "source": [
    "##### Question 1"
   ]
  },
  {
   "cell_type": "code",
   "execution_count": 1,
   "metadata": {},
   "outputs": [
    {
     "name": "stdout",
     "output_type": "stream",
     "text": [
      "we call ouur function here 5\n"
     ]
    }
   ],
   "source": [
    "def add_two_numbers(a, b):\n",
    "    sum = a+b\n",
    "    return sum\n",
    "\n",
    "print('We call ouur function here to add two numbers. /n 3 and 2  equal s :', add_two_numbers(2,3) )\n",
    "\n"
   ]
  },
  {
   "attachments": {},
   "cell_type": "markdown",
   "metadata": {},
   "source": [
    "##### Question 2"
   ]
  },
  {
   "cell_type": "code",
   "execution_count": 4,
   "metadata": {},
   "outputs": [
    {
     "name": "stdout",
     "output_type": "stream",
     "text": [
      "we call our function here to  calculate area of a circle with a radius of five./n The area is : 78.55\n"
     ]
    }
   ],
   "source": [
    "def area_of_circle(r):\n",
    "    pi = 3.142\n",
    "    Area = pi * r * r\n",
    "    return Area\n",
    "\n",
    "print('We call our function here to  calculate area of a circle with a radius of five./n The area is :', area_of_circle(5))    "
   ]
  },
  {
   "attachments": {},
   "cell_type": "markdown",
   "metadata": {},
   "source": [
    "##### Question 3"
   ]
  },
  {
   "cell_type": "code",
   "execution_count": 15,
   "metadata": {},
   "outputs": [
    {
     "name": "stdout",
     "output_type": "stream",
     "text": [
      "The sum of 7 numbers by calling our function 152\n"
     ]
    }
   ],
   "source": [
    "def add_all_nums(*nums):\n",
    "    sum = 0\n",
    "    for i in nums:\n",
    "        sum += i\n",
    "    if all(isinstance(i,(int)) for i in nums):   \n",
    "        return sum \n",
    "    else:\n",
    "        return 'please the list should contain only numbers'\n",
    "\n",
    "\n",
    "\n",
    "print('The sum of 7 numbers by calling our function', add_all_nums(2,5,6,7,8,23,101))\n",
    "#print('The result when the list contain another data type other than numbers', add_all_nums(2,4,'haj', 3))\n"
   ]
  },
  {
   "attachments": {},
   "cell_type": "markdown",
   "metadata": {},
   "source": [
    "##### Question 4"
   ]
  },
  {
   "cell_type": "code",
   "execution_count": 16,
   "metadata": {},
   "outputs": [
    {
     "name": "stdout",
     "output_type": "stream",
     "text": [
      "100 Celcius converted to ferinheit equals  212.0 F\n"
     ]
    }
   ],
   "source": [
    "def Convers_Celcius(C):\n",
    "    F = (C * (9/5)) + 32\n",
    "    print('100 Celcius converted to ferinheit equals ',F, 'F' )\n",
    "\n",
    "\n",
    "Convers_Celcius(100)"
   ]
  },
  {
   "attachments": {},
   "cell_type": "markdown",
   "metadata": {},
   "source": [
    "##### Question 5"
   ]
  },
  {
   "cell_type": "code",
   "execution_count": 20,
   "metadata": {},
   "outputs": [
    {
     "name": "stdout",
     "output_type": "stream",
     "text": [
      "the season is summer\n"
     ]
    }
   ],
   "source": [
    "def check_season(month):\n",
    "    Months = [ 'September','October', 'November',' December', 'January ','February', \n",
    "         'March', 'April', 'May', 'June', 'July' ,'August' ]    \n",
    "    \n",
    "    if month in  Months[:3] :\n",
    "            print('the season is Autumn')\n",
    "    elif month in Months[3:6] :\n",
    "           print('the season is winter') \n",
    "    elif month in Months[6:9] :\n",
    "           print('season is Spring')\n",
    "    else:\n",
    "            print('the season is summer') \n",
    "\n",
    "Month = input('enter a month to check its season (first letter in capital)')\n",
    "check_season(Month)            "
   ]
  }
 ],
 "metadata": {
  "kernelspec": {
   "display_name": "Python 3",
   "language": "python",
   "name": "python3"
  },
  "language_info": {
   "codemirror_mode": {
    "name": "ipython",
    "version": 3
   },
   "file_extension": ".py",
   "mimetype": "text/x-python",
   "name": "python",
   "nbconvert_exporter": "python",
   "pygments_lexer": "ipython3",
   "version": "3.11.0"
  },
  "orig_nbformat": 4,
  "vscode": {
   "interpreter": {
    "hash": "fb9b610eab4921576ab997c09d0c1c552d2f49ec8c532f5ef2f9f88daad97359"
   }
  }
 },
 "nbformat": 4,
 "nbformat_minor": 2
}
