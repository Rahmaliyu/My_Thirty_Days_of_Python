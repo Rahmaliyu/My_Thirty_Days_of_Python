{
 "cells": [
  {
   "cell_type": "markdown",
   "metadata": {},
   "source": [
    "### Day 12"
   ]
  },
  {
   "attachments": {},
   "cell_type": "markdown",
   "metadata": {},
   "source": [
    "#### Exercises level 1"
   ]
  },
  {
   "attachments": {},
   "cell_type": "markdown",
   "metadata": {},
   "source": [
    "##### Question 1\n"
   ]
  },
  {
   "cell_type": "code",
   "execution_count": null,
   "metadata": {},
   "outputs": [],
   "source": [
    "import random\n",
    "import string\n",
    "import math \n",
    "def random_user_id():\n",
    "   letters = string.ascii_letters + string.digits\n",
    "   random_number = ''.join(random.choice(letters) for i in range(6))\n",
    "   return (random_number)\n",
    "\n",
    "  \n",
    "\n",
    "\n",
    "\n",
    "print(random_user_id())   \n",
    "\n",
    "\n",
    "\n",
    "\n"
   ]
  },
  {
   "attachments": {},
   "cell_type": "markdown",
   "metadata": {},
   "source": [
    "##### Question 2"
   ]
  },
  {
   "cell_type": "code",
   "execution_count": 1,
   "metadata": {},
   "outputs": [
    {
     "name": "stdout",
     "output_type": "stream",
     "text": [
      "g5tr5\n"
     ]
    }
   ],
   "source": [
    "import random\n",
    "import string\n",
    "import math \n",
    "def user_id_gen_by_user():\n",
    "    x = int (input('enter number of Characters you want the ID to have : '))\n",
    "    y = int (input('Enter number of IDs to be generated   : '))\n",
    "    letters = string.ascii_letters + string.digits\n",
    "    total = list()\n",
    "    while len(total) < y:\n",
    "        random_number = ''.join(random.choice(letters) for i in range(x))\n",
    "        total.append(random_number)\n",
    "    for rand in total:\n",
    "        return(rand) \n",
    "\n",
    "            \n",
    "print(user_id_gen_by_user())  "
   ]
  },
  {
   "attachments": {},
   "cell_type": "markdown",
   "metadata": {},
   "source": [
    "##### Question 3"
   ]
  },
  {
   "cell_type": "code",
   "execution_count": null,
   "metadata": {},
   "outputs": [],
   "source": []
  }
 ],
 "metadata": {
  "kernelspec": {
   "display_name": "Python 3",
   "language": "python",
   "name": "python3"
  },
  "language_info": {
   "codemirror_mode": {
    "name": "ipython",
    "version": 3
   },
   "file_extension": ".py",
   "mimetype": "text/x-python",
   "name": "python",
   "nbconvert_exporter": "python",
   "pygments_lexer": "ipython3",
   "version": "3.11.0"
  },
  "orig_nbformat": 4,
  "vscode": {
   "interpreter": {
    "hash": "fb9b610eab4921576ab997c09d0c1c552d2f49ec8c532f5ef2f9f88daad97359"
   }
  }
 },
 "nbformat": 4,
 "nbformat_minor": 2
}
